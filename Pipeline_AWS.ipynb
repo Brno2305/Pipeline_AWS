{
  "nbformat": 4,
  "nbformat_minor": 0,
  "metadata": {
    "colab": {
      "provenance": [],
      "authorship_tag": "ABX9TyMu2rGEgESb9yxvBzBgLOAJ",
      "include_colab_link": true
    },
    "kernelspec": {
      "name": "python3",
      "display_name": "Python 3"
    },
    "language_info": {
      "name": "python"
    }
  },
  "cells": [
    {
      "cell_type": "markdown",
      "metadata": {
        "id": "view-in-github",
        "colab_type": "text"
      },
      "source": [
        "<a href=\"https://colab.research.google.com/github/Brno2305/Pipeline_AWS/blob/main/Pipeline_AWS.ipynb\" target=\"_parent\"><img src=\"https://colab.research.google.com/assets/colab-badge.svg\" alt=\"Open In Colab\"/></a>"
      ]
    },
    {
      "cell_type": "markdown",
      "source": [
        "# **Importa arquivos do site 'DATA BOSTON' para diretorio local colab**"
      ],
      "metadata": {
        "id": "S3l6I6fevWDr"
      }
    },
    {
      "cell_type": "code",
      "source": [
        "# Lista de URLs dos arquivos a serem baixados\n",
        "urls = [\n",
        "    'https://data.boston.gov/dataset/8048697b-ad64-4bfc-b090-ee00169f2323/resource/c9509ab4-6f6d-4b97-979a-0cf2a10c922b/download/tmphrybkxuh.csv',\n",
        "    'https://data.boston.gov/dataset/8048697b-ad64-4bfc-b090-ee00169f2323/resource/b7ea6b1b-3ca4-4c5b-9713-6dc1db52379a/download/tmpzxzxeqfb.csv',\n",
        "    'https://data.boston.gov/dataset/8048697b-ad64-4bfc-b090-ee00169f2323/resource/30022137-709d-465e-baae-ca155b51927d/download/tmpzccn8u4q.csv',\n",
        "    'https://data.boston.gov/dataset/8048697b-ad64-4bfc-b090-ee00169f2323/resource/2be28d90-3a90-4af1-a3f6-f28c1e25880a/download/tmp7602cia8.csv',\n",
        "    'https://data.boston.gov/dataset/8048697b-ad64-4bfc-b090-ee00169f2323/resource/ea2e4696-4a2d-429c-9807-d02eb92e0222/download/tmpcje3ep_w.csv',\n",
        "    'https://data.boston.gov/dataset/8048697b-ad64-4bfc-b090-ee00169f2323/resource/6ff6a6fd-3141-4440-a880-6f60a37fe789/download/tmpcv_10m2s.csv'\n",
        "]\n"
      ],
      "metadata": {
        "id": "AQhcUdKmuVdM"
      },
      "execution_count": 3,
      "outputs": []
    },
    {
      "cell_type": "code",
      "source": [
        "import pandas as pd\n",
        "import requests\n",
        "from io import StringIO\n",
        "\n",
        "# Lista para armazenar os DataFrames de cada arquivo\n",
        "dfs = []\n",
        "\n",
        "# Loop sobre as URLs\n",
        "for url in urls:\n",
        "    # Fazendo solicitação para a URL\n",
        "    response = requests.get(url)\n",
        "\n",
        "    # Verifica se a solicitação foi bem-sucedida\n",
        "    if response.status_code == 200:\n",
        "        # Lê o conteúdo do arquivo CSV em um DataFrame\n",
        "        data = response.content.decode('utf-8')\n",
        "        df = pd.read_csv(StringIO(data))\n",
        "\n",
        "        # Adiciona o DataFrame à lista\n",
        "        dfs.append(df)\n",
        "    else:\n",
        "        print(f'Falha ao baixar {url}. Status code: {response.status_code}')\n",
        "\n",
        "# Concatena todos os DataFrames em um único DataFrame\n",
        "df_final = pd.concat(dfs, ignore_index=True)\n"
      ],
      "metadata": {
        "colab": {
          "base_uri": "https://localhost:8080/"
        },
        "id": "83paKpL5NuPF",
        "outputId": "75e01605-a487-4c03-918b-c0f5d2975023"
      },
      "execution_count": 6,
      "outputs": [
        {
          "output_type": "stream",
          "name": "stderr",
          "text": [
            "<ipython-input-6-50d348674f7a>:17: DtypeWarning: Columns (13,14) have mixed types. Specify dtype option on import or set low_memory=False.\n",
            "  df = pd.read_csv(StringIO(data))\n",
            "<ipython-input-6-50d348674f7a>:17: DtypeWarning: Columns (13,14) have mixed types. Specify dtype option on import or set low_memory=False.\n",
            "  df = pd.read_csv(StringIO(data))\n",
            "<ipython-input-6-50d348674f7a>:17: DtypeWarning: Columns (13) have mixed types. Specify dtype option on import or set low_memory=False.\n",
            "  df = pd.read_csv(StringIO(data))\n",
            "<ipython-input-6-50d348674f7a>:17: DtypeWarning: Columns (13,14) have mixed types. Specify dtype option on import or set low_memory=False.\n",
            "  df = pd.read_csv(StringIO(data))\n",
            "<ipython-input-6-50d348674f7a>:17: DtypeWarning: Columns (13) have mixed types. Specify dtype option on import or set low_memory=False.\n",
            "  df = pd.read_csv(StringIO(data))\n",
            "<ipython-input-6-50d348674f7a>:17: DtypeWarning: Columns (13) have mixed types. Specify dtype option on import or set low_memory=False.\n",
            "  df = pd.read_csv(StringIO(data))\n"
          ]
        }
      ]
    },
    {
      "cell_type": "markdown",
      "source": [
        "# **Analise dos dados para tratamento posterior(camada bronze)**"
      ],
      "metadata": {
        "id": "MIg7wlUvdpWf"
      }
    },
    {
      "cell_type": "code",
      "source": [
        "\n",
        "# Verificar se há valores nulos\n",
        "df_final.isnull().sum()"
      ],
      "metadata": {
        "colab": {
          "base_uri": "https://localhost:8080/"
        },
        "id": "6FzVzip9b2-L",
        "outputId": "348eba8a-eb46-46db-9894-a94fe599574d"
      },
      "execution_count": 26,
      "outputs": [
        {
          "output_type": "execute_result",
          "data": {
            "text/plain": [
              "case_enquiry_id                        0\n",
              "open_dt                                0\n",
              "sla_target_dt                     210506\n",
              "closed_dt                         103646\n",
              "on_time                                0\n",
              "case_status                            0\n",
              "closure_reason                         0\n",
              "case_title                             0\n",
              "subject                                0\n",
              "reason                                 0\n",
              "type                                   0\n",
              "queue                                  0\n",
              "department                             0\n",
              "submitted_photo                        0\n",
              "closed_photo                           0\n",
              "location                               0\n",
              "fire_district                       3004\n",
              "pwd_district                         776\n",
              "city_council_district                148\n",
              "police_district                      666\n",
              "neighborhood                        1561\n",
              "neighborhood_services_district       152\n",
              "ward                                  61\n",
              "precinct                            1016\n",
              "location_street_name               30007\n",
              "location_zipcode                  341664\n",
              "latitude                           23266\n",
              "longitude                          23266\n",
              "geom_4326                          23266\n",
              "source                                 0\n",
              "dtype: int64"
            ]
          },
          "metadata": {},
          "execution_count": 26
        }
      ]
    },
    {
      "cell_type": "code",
      "source": [
        "# Verificar se há valores duplicados no DataFrame\n",
        "df.duplicated().sum()\n",
        ""
      ],
      "metadata": {
        "colab": {
          "base_uri": "https://localhost:8080/"
        },
        "id": "KncYuHykQli7",
        "outputId": "f33811cb-c75c-4313-93ee-0237e8520b3d"
      },
      "execution_count": 15,
      "outputs": [
        {
          "output_type": "execute_result",
          "data": {
            "text/plain": [
              "0"
            ]
          },
          "metadata": {},
          "execution_count": 15
        }
      ]
    },
    {
      "cell_type": "markdown",
      "source": [
        "# **Salva DF local formato .parquet**"
      ],
      "metadata": {
        "id": "ElHqmF_5VuKm"
      }
    },
    {
      "cell_type": "code",
      "source": [
        "# Supondo que df seja o seu DataFrame\n",
        "df_final.to_parquet('/content/data_boston_services.parquet')\n"
      ],
      "metadata": {
        "id": "_RgnRspaVQ8n"
      },
      "execution_count": 27,
      "outputs": []
    },
    {
      "cell_type": "markdown",
      "source": [
        "# **Conecta no AWS S3**"
      ],
      "metadata": {
        "id": "TYlrMMT46m-P"
      }
    },
    {
      "cell_type": "code",
      "source": [
        "!pip install boto3"
      ],
      "metadata": {
        "colab": {
          "base_uri": "https://localhost:8080/"
        },
        "id": "XpZyRfIm62g-",
        "outputId": "0de63dbd-618e-46c3-e1a2-85afcc877ea9"
      },
      "execution_count": 30,
      "outputs": [
        {
          "output_type": "stream",
          "name": "stdout",
          "text": [
            "Collecting boto3\n",
            "  Downloading boto3-1.34.30-py3-none-any.whl (139 kB)\n",
            "\u001b[2K     \u001b[90m━━━━━━━━━━━━━━━━━━━━━━━━━━━━━━━━━━━━━━━━\u001b[0m \u001b[32m139.3/139.3 kB\u001b[0m \u001b[31m3.6 MB/s\u001b[0m eta \u001b[36m0:00:00\u001b[0m\n",
            "\u001b[?25hCollecting botocore<1.35.0,>=1.34.30 (from boto3)\n",
            "  Downloading botocore-1.34.30-py3-none-any.whl (11.9 MB)\n",
            "\u001b[2K     \u001b[90m━━━━━━━━━━━━━━━━━━━━━━━━━━━━━━━━━━━━━━━━\u001b[0m \u001b[32m11.9/11.9 MB\u001b[0m \u001b[31m74.9 MB/s\u001b[0m eta \u001b[36m0:00:00\u001b[0m\n",
            "\u001b[?25hCollecting jmespath<2.0.0,>=0.7.1 (from boto3)\n",
            "  Downloading jmespath-1.0.1-py3-none-any.whl (20 kB)\n",
            "Collecting s3transfer<0.11.0,>=0.10.0 (from boto3)\n",
            "  Downloading s3transfer-0.10.0-py3-none-any.whl (82 kB)\n",
            "\u001b[2K     \u001b[90m━━━━━━━━━━━━━━━━━━━━━━━━━━━━━━━━━━━━━━━━\u001b[0m \u001b[32m82.1/82.1 kB\u001b[0m \u001b[31m10.2 MB/s\u001b[0m eta \u001b[36m0:00:00\u001b[0m\n",
            "\u001b[?25hRequirement already satisfied: python-dateutil<3.0.0,>=2.1 in /usr/local/lib/python3.10/dist-packages (from botocore<1.35.0,>=1.34.30->boto3) (2.8.2)\n",
            "Requirement already satisfied: urllib3<2.1,>=1.25.4 in /usr/local/lib/python3.10/dist-packages (from botocore<1.35.0,>=1.34.30->boto3) (2.0.7)\n",
            "Requirement already satisfied: six>=1.5 in /usr/local/lib/python3.10/dist-packages (from python-dateutil<3.0.0,>=2.1->botocore<1.35.0,>=1.34.30->boto3) (1.16.0)\n",
            "Installing collected packages: jmespath, botocore, s3transfer, boto3\n",
            "Successfully installed boto3-1.34.30 botocore-1.34.30 jmespath-1.0.1 s3transfer-0.10.0\n"
          ]
        }
      ]
    },
    {
      "cell_type": "code",
      "source": [
        "import boto3\n",
        "\n",
        "# Credenciais AWS para acesso\n",
        "access_key = 'SUA CHAVE DE ACESSO'\n",
        "secret_key = 'SUA CHAVE SECRETA'\n",
        "region = 'us-east-1'\n",
        "\n",
        "# Conectando ao S3\n",
        "s3 = boto3.client('s3', aws_access_key_id=access_key, aws_secret_access_key=secret_key, region_name=region)\n"
      ],
      "metadata": {
        "id": "9cacCe5RyhBr"
      },
      "execution_count": 31,
      "outputs": []
    },
    {
      "cell_type": "markdown",
      "source": [
        "## **Move arquivo .parquet para camada BRONZE do S3**"
      ],
      "metadata": {
        "id": "L0-nP5AMRu7N"
      }
    },
    {
      "cell_type": "code",
      "source": [
        "# Nome do seu bucket S3\n",
        "bucket_name = 'aws-pipeline-py'\n",
        "file_name = 'data_boston_services.parquet'\n",
        "\n",
        "# Especifique o caminho do arquivo no seu bucket S3\n",
        "s3_path = 'bronze/' + file_name\n",
        "\n",
        "# Envie o arquivo parquet para o S3\n",
        "s3.upload_file(file_name, bucket_name, s3_path)"
      ],
      "metadata": {
        "id": "QpOn-xZ8WU_r"
      },
      "execution_count": 32,
      "outputs": []
    },
    {
      "cell_type": "markdown",
      "source": [
        "# **Trata dados na camada Bronze**"
      ],
      "metadata": {
        "id": "VEz_HmxxYebw"
      }
    },
    {
      "cell_type": "code",
      "source": [
        "import boto3\n",
        "import pandas as pd\n",
        "from io import BytesIO\n",
        "\n",
        "# Configurações AWS\n",
        "access_key = 'SUA CHAVE DE ACESSO'\n",
        "secret_key = 'SUA CHAVE SECRETA'\n",
        "region = 'us-east-1'\n",
        "bucket_name = 'aws-pipeline-py'\n",
        "file_key = 'bronze/data_boston_services.parquet'\n",
        "\n",
        "# Acessando o arquivo no S3\n",
        "s3 = boto3.client('s3', aws_access_key_id=access_key, aws_secret_access_key=secret_key, region_name=region)\n",
        "response = s3.get_object(Bucket=bucket_name, Key=file_key)\n",
        "data = response['Body'].read()\n",
        "\n",
        "# Carregando o DataFrame\n",
        "data_buffer = BytesIO(data)\n",
        "df_bronze_tratado = pd.read_parquet(data_buffer)\n",
        "\n",
        "# Realizando a limpeza de dados\n",
        "# Trata alguns campos nulos somente para exemplo:\n",
        "df_bronze_tratado['on_time'].fillna('N/A', inplace=True)\n",
        "df_bronze_tratado['case_title'].fillna('N/A', inplace=True)\n",
        "df_bronze_tratado['submitted_photo'].fillna('N/A', inplace=True)\n"
      ],
      "metadata": {
        "id": "3H4M5LQAWWW1"
      },
      "execution_count": 2,
      "outputs": []
    },
    {
      "cell_type": "markdown",
      "source": [
        "# **Envia para camada Silver**"
      ],
      "metadata": {
        "id": "pLDOJE1xefl5"
      }
    },
    {
      "cell_type": "code",
      "source": [
        "# Enviando o DataFrame tratado para a camada 'silver'\n",
        "bucket_name_silver = 'aws-pipeline-py'\n",
        "file_key_silver = 'silver/data_boston_services_silver.parquet'\n",
        "\n",
        "# Convertendo DataFrame para .PARQUET (ou outro formato necessário)\n",
        "data_silver = df_bronze_tratado.to_parquet(index=False)\n",
        "\n",
        "# Enviando o DataFrame tratado para o S3\n",
        "s3.put_object(Body=data_silver, Bucket=bucket_name_silver, Key=file_key_silver)"
      ],
      "metadata": {
        "colab": {
          "base_uri": "https://localhost:8080/"
        },
        "id": "2-QKMaGUch_0",
        "outputId": "ecec706e-fccd-4f48-fb81-936cc5895131"
      },
      "execution_count": 4,
      "outputs": [
        {
          "output_type": "execute_result",
          "data": {
            "text/plain": [
              "{'ResponseMetadata': {'RequestId': 'SVZ57BTPBGHY6MBA',\n",
              "  'HostId': 'x06iScdANv9IaC3kHjaPSKvjcvK+bdp/4YiRd3VOC0m8ODI2ROjcJ6fxk6Uf6NtQBbsbuwEn4WE=',\n",
              "  'HTTPStatusCode': 200,\n",
              "  'HTTPHeaders': {'x-amz-id-2': 'x06iScdANv9IaC3kHjaPSKvjcvK+bdp/4YiRd3VOC0m8ODI2ROjcJ6fxk6Uf6NtQBbsbuwEn4WE=',\n",
              "   'x-amz-request-id': 'SVZ57BTPBGHY6MBA',\n",
              "   'date': 'Tue, 30 Jan 2024 03:51:02 GMT',\n",
              "   'x-amz-server-side-encryption': 'AES256',\n",
              "   'etag': '\"fea7641aca2575958dffb6054b0c044e\"',\n",
              "   'server': 'AmazonS3',\n",
              "   'content-length': '0'},\n",
              "  'RetryAttempts': 0},\n",
              " 'ETag': '\"fea7641aca2575958dffb6054b0c044e\"',\n",
              " 'ServerSideEncryption': 'AES256'}"
            ]
          },
          "metadata": {},
          "execution_count": 4
        }
      ]
    },
    {
      "cell_type": "code",
      "source": [],
      "metadata": {
        "id": "w8xezus_fb7D"
      },
      "execution_count": null,
      "outputs": []
    }
  ]
}
